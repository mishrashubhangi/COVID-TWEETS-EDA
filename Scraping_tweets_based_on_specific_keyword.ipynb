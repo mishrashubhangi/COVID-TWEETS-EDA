{
  "nbformat": 4,
  "nbformat_minor": 0,
  "metadata": {
    "colab": {
      "name": "Scraping tweets based on specific keyword.ipynb",
      "provenance": []
    },
    "kernelspec": {
      "name": "python3",
      "display_name": "Python 3"
    }
  },
  "cells": [
    {
      "cell_type": "markdown",
      "metadata": {
        "id": "EGoM1ETPNg3H"
      },
      "source": [
        "### INSTALL TWYTHON"
      ]
    },
    {
      "cell_type": "code",
      "metadata": {
        "id": "SultGweECceM",
        "outputId": "3e64d6c8-0307-4a21-8719-d8d330f9f386",
        "colab": {
          "base_uri": "https://localhost:8080/",
          "height": 204
        }
      },
      "source": [
        "! pip install twython"
      ],
      "execution_count": 1,
      "outputs": [
        {
          "output_type": "stream",
          "text": [
            "Collecting twython\n",
            "  Downloading https://files.pythonhosted.org/packages/24/80/579b96dfaa9b536efde883d4f0df7ea2598a6f3117a6dd572787f4a2bcfb/twython-3.8.2-py3-none-any.whl\n",
            "Requirement already satisfied: requests>=2.1.0 in /usr/local/lib/python3.6/dist-packages (from twython) (2.23.0)\n",
            "Requirement already satisfied: requests-oauthlib>=0.4.0 in /usr/local/lib/python3.6/dist-packages (from twython) (1.3.0)\n",
            "Requirement already satisfied: certifi>=2017.4.17 in /usr/local/lib/python3.6/dist-packages (from requests>=2.1.0->twython) (2020.6.20)\n",
            "Requirement already satisfied: urllib3!=1.25.0,!=1.25.1,<1.26,>=1.21.1 in /usr/local/lib/python3.6/dist-packages (from requests>=2.1.0->twython) (1.24.3)\n",
            "Requirement already satisfied: chardet<4,>=3.0.2 in /usr/local/lib/python3.6/dist-packages (from requests>=2.1.0->twython) (3.0.4)\n",
            "Requirement already satisfied: idna<3,>=2.5 in /usr/local/lib/python3.6/dist-packages (from requests>=2.1.0->twython) (2.10)\n",
            "Requirement already satisfied: oauthlib>=3.0.0 in /usr/local/lib/python3.6/dist-packages (from requests-oauthlib>=0.4.0->twython) (3.1.0)\n",
            "Installing collected packages: twython\n",
            "Successfully installed twython-3.8.2\n"
          ],
          "name": "stdout"
        }
      ]
    },
    {
      "cell_type": "markdown",
      "metadata": {
        "id": "g8_XN2xyMx1Q"
      },
      "source": [
        "### GETTING CREDENTIALS FROM TWITTER"
      ]
    },
    {
      "cell_type": "code",
      "metadata": {
        "id": "8mKvAs-WClBw"
      },
      "source": [
        "import json\n",
        "\n",
        "# Enter the generated keys/secrets as strings in the following fields\n",
        "credentials = {}\n",
        "credentials['CONSUMER_KEY'] = \"6ZQzQMCrSyTNTgbIRjtxo0di6\"\n",
        "credentials['CONSUMER_SECRET'] = \"8Bycpusf89UNN2E9nn0dwIK6mdr0LGjiALUCS1KZ52uKdspBJJ\"\n",
        "credentials['ACCESS_TOKEN'] = \"1274917406230499328-tccr2kjOyPDgtJzpgrAFxBUrp72Ej1\"\n",
        "credentials['ACCESS_SECRET'] = \"ivCKF5wqzAnbDlG0gzXNTIjoXcNHsGc1qG4P0hUgAlJgX\"\n",
        "\n",
        "# Save the credentials object to the file\n",
        "with open(\"twitter_credentials.json\", \"w\") as file:\n",
        "    json.dump(credentials, file)"
      ],
      "execution_count": 2,
      "outputs": []
    },
    {
      "cell_type": "markdown",
      "metadata": {
        "id": "WDhu82AwNC_U"
      },
      "source": [
        "### CREATING QUERY FOR SEARCH API WITH A SEARCH KEYWORD"
      ]
    },
    {
      "cell_type": "code",
      "metadata": {
        "id": "yaXSFM0HDEAb"
      },
      "source": [
        "# Import the Twython class\n",
        "from twython import Twython\n",
        "import json\n",
        "\n",
        "# Load credentials from json file\n",
        "with open(\"twitter_credentials.json\", \"r\") as file:\n",
        "    creds = json.load(file)\n",
        "\n",
        "# Instantiate an object\n",
        "covid_tweets = Twython(creds['CONSUMER_KEY'], creds['CONSUMER_SECRET'])\n",
        "\n",
        "# Create the query\n",
        "query = {'q': 'covid19',\n",
        "        'result_type': 'popular',\n",
        "        'count': 10,\n",
        "        'lang': 'en',\n",
        "        }"
      ],
      "execution_count": 3,
      "outputs": []
    },
    {
      "cell_type": "code",
      "metadata": {
        "id": "ocUqSunJDRdf",
        "outputId": "f9e4dd90-84d9-4f93-b147-58e2e8b491cb",
        "colab": {
          "base_uri": "https://localhost:8080/",
          "height": 204
        }
      },
      "source": [
        "import pandas as pd\n",
        "\n",
        "# Search tweets\n",
        "dict_ = {'user': [], 'date': [], 'text': [], 'favorite_count': []}\n",
        "for status in covid_tweets.search(**query)['statuses']:\n",
        "    dict_['user'].append(status['user']['screen_name'])\n",
        "    dict_['date'].append(status['created_at'])\n",
        "    dict_['text'].append(status['text'])\n",
        "    dict_['favorite_count'].append(status['favorite_count'])\n",
        "\n",
        "# Structure data in a pandas dataframe for easier manipulation\n",
        "df = pd.DataFrame(dict_)\n",
        "df.sort_values(by='favorite_count', inplace=True, ascending=False)\n",
        "df.head(5)"
      ],
      "execution_count": 5,
      "outputs": [
        {
          "output_type": "execute_result",
          "data": {
            "text/html": [
              "<div>\n",
              "<style scoped>\n",
              "    .dataframe tbody tr th:only-of-type {\n",
              "        vertical-align: middle;\n",
              "    }\n",
              "\n",
              "    .dataframe tbody tr th {\n",
              "        vertical-align: top;\n",
              "    }\n",
              "\n",
              "    .dataframe thead th {\n",
              "        text-align: right;\n",
              "    }\n",
              "</style>\n",
              "<table border=\"1\" class=\"dataframe\">\n",
              "  <thead>\n",
              "    <tr style=\"text-align: right;\">\n",
              "      <th></th>\n",
              "      <th>user</th>\n",
              "      <th>date</th>\n",
              "      <th>text</th>\n",
              "      <th>favorite_count</th>\n",
              "    </tr>\n",
              "  </thead>\n",
              "  <tbody>\n",
              "    <tr>\n",
              "      <th>5</th>\n",
              "      <td>FabrizioRomano</td>\n",
              "      <td>Tue Oct 13 14:20:27 +0000 2020</td>\n",
              "      <td>Cristiano Ronaldo has tested positive to Coron...</td>\n",
              "      <td>69285</td>\n",
              "    </tr>\n",
              "    <tr>\n",
              "      <th>0</th>\n",
              "      <td>DrEricDing</td>\n",
              "      <td>Thu Oct 15 01:12:48 +0000 2020</td>\n",
              "      <td>BREAKING—New records reveal that, while Trump ...</td>\n",
              "      <td>15122</td>\n",
              "    </tr>\n",
              "    <tr>\n",
              "      <th>9</th>\n",
              "      <td>DrEricDing</td>\n",
              "      <td>Tue Oct 13 15:30:31 +0000 2020</td>\n",
              "      <td>BREAKING—**2 dozen** #COVID19 cases officially...</td>\n",
              "      <td>13638</td>\n",
              "    </tr>\n",
              "    <tr>\n",
              "      <th>1</th>\n",
              "      <td>DrEricDing</td>\n",
              "      <td>Wed Oct 14 18:27:23 +0000 2020</td>\n",
              "      <td>Faith-healing church school in Redding CA flou...</td>\n",
              "      <td>4332</td>\n",
              "    </tr>\n",
              "    <tr>\n",
              "      <th>2</th>\n",
              "      <td>DrEricDing</td>\n",
              "      <td>Wed Oct 14 00:21:48 +0000 2020</td>\n",
              "      <td>⚠️True US Coronavirus deaths = ~300k! New stud...</td>\n",
              "      <td>4325</td>\n",
              "    </tr>\n",
              "  </tbody>\n",
              "</table>\n",
              "</div>"
            ],
            "text/plain": [
              "             user  ... favorite_count\n",
              "5  FabrizioRomano  ...          69285\n",
              "0      DrEricDing  ...          15122\n",
              "9      DrEricDing  ...          13638\n",
              "1      DrEricDing  ...           4332\n",
              "2      DrEricDing  ...           4325\n",
              "\n",
              "[5 rows x 4 columns]"
            ]
          },
          "metadata": {
            "tags": []
          },
          "execution_count": 5
        }
      ]
    }
  ]
}